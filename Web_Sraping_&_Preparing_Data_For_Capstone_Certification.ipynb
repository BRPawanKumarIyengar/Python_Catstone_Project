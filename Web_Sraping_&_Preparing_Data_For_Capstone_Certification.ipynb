{
 "cells": [
  {
   "cell_type": "markdown",
   "metadata": {},
   "source": [
    "This is web scraping and cleaning and pre-paring data as a part of second assignment to be submitted for Capstone Certification."
   ]
  },
  {
   "cell_type": "code",
   "execution_count": 1,
   "metadata": {},
   "outputs": [],
   "source": [
    "#We import the required modules\n",
    "import requests as Pawan_Request\n",
    "import lxml.html as Pawan_HTML_Reader\n",
    "import pandas as Pawan_Pandas_Module"
   ]
  },
  {
   "cell_type": "code",
   "execution_count": 2,
   "metadata": {},
   "outputs": [],
   "source": [
    "#We specify the URL Path\n",
    "url = 'https://en.wikipedia.org/wiki/List_of_postal_codes_of_Canada:_M'"
   ]
  },
  {
   "cell_type": "code",
   "execution_count": 3,
   "metadata": {},
   "outputs": [],
   "source": [
    "#Create a handle, Pawan_Web_Page, to handle the contents of the website\n",
    "Pawan_Web_Page = Pawan_Request.get(url)"
   ]
  },
  {
   "cell_type": "code",
   "execution_count": 4,
   "metadata": {},
   "outputs": [],
   "source": [
    "#Store the contents of the website under Pawan_Page_Content\n",
    "Pawan_Page_Content = Pawan_HTML_Reader.fromstring(Pawan_Web_Page.content)"
   ]
  },
  {
   "cell_type": "code",
   "execution_count": 5,
   "metadata": {},
   "outputs": [],
   "source": [
    "#Parse data that are stored between <tr>..</tr> of HTML\n",
    "tr_elements = Pawan_Page_Content.xpath('//tr')"
   ]
  },
  {
   "cell_type": "code",
   "execution_count": 6,
   "metadata": {},
   "outputs": [],
   "source": [
    "#We declare all required variables\n",
    "i=0\n",
    "Ctr = 0\n",
    "Pawan_Data_Array = []\n",
    "Hisab = 0\n",
    "First_Column = ''\n",
    "Second_Column =''\n",
    "Third_Column =''\n",
    "Temp_Column =''\n",
    "Temp_Column2 =''"
   ]
  },
  {
   "cell_type": "code",
   "execution_count": 7,
   "metadata": {},
   "outputs": [],
   "source": [
    "#Hisab stores the length of all table elements in the web page (including the table we are interested in)\n",
    "Hisab = len(tr_elements)"
   ]
  },
  {
   "cell_type": "code",
   "execution_count": 8,
   "metadata": {},
   "outputs": [],
   "source": [
    "while Ctr < Hisab:\n",
    "\tCell_Value = tr_elements[Ctr].text_content() #Here we obtain the vales of table elements\n",
    "\tif len(Cell_Value) > 0:\n",
    "\t\tFirst_Column = str(Cell_Value) #We obtain the value of cell in first column\n",
    "\t\tFirst_Column =First_Column.split(\"\\n\")[1]\n",
    "\t\tSecond_Column = str(Cell_Value) #We obtain the value of cell in second column\n",
    "\t\tSecond_Column = Second_Column.split(\"\\n\")[2]\n",
    "\t\tThird_Column = str(Cell_Value) #We obtain the value of cell in third column\n",
    "\t\tThird_Column = Third_Column.split(\"\\n\")[3]\n",
    "\t\tif Second_Column != 'Not assigned': #Here we eliminate the rows where second colun has 'Not Assigned' value\n",
    "\t\t\tif Third_Column == 'Not assigned': \n",
    "\t\t\t\tThird_Column = Second_Column #Here we update the value of second column in third column if thitd column has 'Not Assigned' value\n",
    "\t\t\telif Temp_Column == First_Column:\n",
    "\t\t\t\tThird_Column = Third_Column +', '+Temp_Column2 #Here we update third column value with previous values if first column is duplicate\n",
    "\t\t\t\tPawan_Data_Array[i-1][0] = 'TMP'#Here we set to mark all duplicate (Unwanted)cells as TMP\n",
    "\t\t\tPawan_Data_Array.append([First_Column,Second_Column,Third_Column])\n",
    "\t\t\ti = i+1\n",
    "\t\tTemp_Column = First_Column\n",
    "\t\tTemp_Column2 = Third_Column\n",
    "\t\tCtr+=1\n",
    "\telse:\n",
    "\t\tbreak"
   ]
  },
  {
   "cell_type": "code",
   "execution_count": 9,
   "metadata": {},
   "outputs": [
    {
     "name": "stdout",
     "output_type": "stream",
     "text": [
      "    Postcode           Borough  \\\n",
      "1        M3A        North York   \n",
      "2        M4A        North York   \n",
      "4        M5A  Downtown Toronto   \n",
      "6        M6A        North York   \n",
      "7        M7A      Queen's Park   \n",
      "8        M9A         Etobicoke   \n",
      "10       M1B       Scarborough   \n",
      "11       M3B        North York   \n",
      "13       M4B         East York   \n",
      "15       M5B  Downtown Toronto   \n",
      "16       M6B        North York   \n",
      "21       M9B         Etobicoke   \n",
      "24       M1C       Scarborough   \n",
      "26       M3C        North York   \n",
      "27       M4C         East York   \n",
      "28       M5C  Downtown Toronto   \n",
      "29       M6C              York   \n",
      "33       M9C         Etobicoke   \n",
      "36       M1E       Scarborough   \n",
      "37       M4E      East Toronto   \n",
      "38       M5E  Downtown Toronto   \n",
      "39       M6E              York   \n",
      "40       M1G       Scarborough   \n",
      "41       M4G         East York   \n",
      "42       M5G  Downtown Toronto   \n",
      "43       M6G  Downtown Toronto   \n",
      "44       M1H       Scarborough   \n",
      "45       M2H        North York   \n",
      "48       M3H        North York   \n",
      "49       M4H         East York   \n",
      "..       ...               ...   \n",
      "131      M4R   Central Toronto   \n",
      "134      M5R   Central Toronto   \n",
      "136      M6R      West Toronto   \n",
      "137      M7R       Mississauga   \n",
      "141      M9R         Etobicoke   \n",
      "142      M1S       Scarborough   \n",
      "143      M4S   Central Toronto   \n",
      "145      M5S  Downtown Toronto   \n",
      "147      M6S      West Toronto   \n",
      "150      M1T       Scarborough   \n",
      "152      M4T   Central Toronto   \n",
      "155      M5T  Downtown Toronto   \n",
      "159      M1V       Scarborough   \n",
      "164      M4V   Central Toronto   \n",
      "171      M5V  Downtown Toronto   \n",
      "174      M8V         Etobicoke   \n",
      "182      M9V         Etobicoke   \n",
      "184      M1W       Scarborough   \n",
      "185      M4W  Downtown Toronto   \n",
      "186      M5W  Downtown Toronto   \n",
      "188      M8W         Etobicoke   \n",
      "189      M9W         Etobicoke   \n",
      "190      M1X       Scarborough   \n",
      "192      M4X  Downtown Toronto   \n",
      "194      M5X  Downtown Toronto   \n",
      "197      M8X         Etobicoke   \n",
      "198      M4Y  Downtown Toronto   \n",
      "199      M7Y      East Toronto   \n",
      "207      M8Y         Etobicoke   \n",
      "212      M8Z         Etobicoke   \n",
      "\n",
      "                                         Neighbourhood  \n",
      "1                                            Parkwoods  \n",
      "2                                     Victoria Village  \n",
      "4                            Regent Park, Harbourfront  \n",
      "6                     Lawrence Manor, Lawrence Heights  \n",
      "7                                         Queen's Park  \n",
      "8                                     Islington Avenue  \n",
      "10                                      Malvern, Rouge  \n",
      "11                                     Don Mills North  \n",
      "13                     Parkview Hill, Woodbine Gardens  \n",
      "15                            Garden District, Ryerson  \n",
      "16                                           Glencairn  \n",
      "21   West Deane Park, Princess Gardens, Martin Grov...  \n",
      "24              Port Union, Rouge Hill, Highland Creek  \n",
      "26                    Don Mills South, Flemingdon Park  \n",
      "27                                    Woodbine Heights  \n",
      "28                                      St. James Town  \n",
      "29                                  Humewood-Cedarvale  \n",
      "33   Old Burnhamthorpe, Markland Wood, Eringate, Bl...  \n",
      "36                   West Hill, Morningside, Guildwood  \n",
      "37                                         The Beaches  \n",
      "38                                         Berczy Park  \n",
      "39                                 Caledonia-Fairbanks  \n",
      "40                                              Woburn  \n",
      "41                                             Leaside  \n",
      "42                                  Central Bay Street  \n",
      "43                                            Christie  \n",
      "44                                           Cedarbrae  \n",
      "45                                   Hillcrest Village  \n",
      "48     Wilson Heights, Downsview North, Bathurst Manor  \n",
      "49                                    Thorncliffe Park  \n",
      "..                                                 ...  \n",
      "131                                 North Toronto West  \n",
      "134                Yorkville, North Midtown, The Annex  \n",
      "136                             Roncesvalles, Parkdale  \n",
      "137              Canada Post Gateway Processing Centre  \n",
      "141  St. Phillips, Richview Gardens, Martin Grove G...  \n",
      "142                                          Agincourt  \n",
      "143                                         Davisville  \n",
      "145                     University of Toronto, Harbord  \n",
      "147                                 Swansea, Runnymede  \n",
      "150            Tam O'Shanter, Sullivan, Clarks Corners  \n",
      "152                        Summerhill East, Moore Park  \n",
      "155          Kensington Market, Grange Park, Chinatown  \n",
      "159  Steeles East, Milliken, L'Amoreaux East, Aginc...  \n",
      "164  Summerhill West, South Hill, Rathnelly, Forest...  \n",
      "171  South Niagara, Railway Lands, King and Spadina...  \n",
      "174       New Toronto, Mimico South, Humber Bay Shores  \n",
      "182  Thistletown, South Steeles, Silverstone, Mount...  \n",
      "184                      Steeles West, L'Amoreaux West  \n",
      "185                                           Rosedale  \n",
      "186                    Stn A PO Boxes 25 The Esplanade  \n",
      "188                             Long Branch, Alderwood  \n",
      "189                                          Northwest  \n",
      "190                                        Upper Rouge  \n",
      "192                        St. James Town, Cabbagetown  \n",
      "194             Underground city, First Canadian Place  \n",
      "197      Old Mill North, Montgomery Road, The Kingsway  \n",
      "198                               Church and Wellesley  \n",
      "199   Business reply mail Processing Centre969 Eastern  \n",
      "207  Sunnylea, Royal York South East, The Queensway...  \n",
      "212  South of Bloor, Royal York South West, The Que...  \n",
      "\n",
      "[103 rows x 3 columns]\n"
     ]
    }
   ],
   "source": [
    "#We create the dataframe\t\t\n",
    "df = Pawan_Pandas_Module.DataFrame(Pawan_Data_Array)\n",
    "Header_String = df[0][0],df[1][0],df[2][0] #We create the header for the dataframe from the first row elements\n",
    "df = df.iloc[1:] # We delete first row of the dataframe as it has been set as the header\n",
    "df.columns = Header_String #We set the header for Data frame\n",
    "df.drop_duplicates('Postcode',keep = False, inplace = True) #Here we eliminate duplicate rows\n",
    "print(df)"
   ]
  },
  {
   "cell_type": "code",
   "execution_count": null,
   "metadata": {},
   "outputs": [],
   "source": []
  }
 ],
 "metadata": {
  "kernelspec": {
   "display_name": "Python 3",
   "language": "python",
   "name": "python3"
  },
  "language_info": {
   "codemirror_mode": {
    "name": "ipython",
    "version": 3
   },
   "file_extension": ".py",
   "mimetype": "text/x-python",
   "name": "python",
   "nbconvert_exporter": "python",
   "pygments_lexer": "ipython3",
   "version": "3.7.0"
  }
 },
 "nbformat": 4,
 "nbformat_minor": 2
}
